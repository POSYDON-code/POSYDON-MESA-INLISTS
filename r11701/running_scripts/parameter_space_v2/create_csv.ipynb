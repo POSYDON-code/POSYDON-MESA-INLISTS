{
 "cells": [
  {
   "cell_type": "code",
   "execution_count": 1,
   "id": "73e74310",
   "metadata": {},
   "outputs": [],
   "source": [
    "import os\n",
    "import csv\n",
    "import numpy as np\n",
    "import pandas as pd"
   ]
  },
  {
   "cell_type": "code",
   "execution_count": 2,
   "id": "23616620-60ac-4539-a3c6-abe6169fcb5d",
   "metadata": {},
   "outputs": [],
   "source": [
    "def log_range(x_min,x_max,x_n):\n",
    "    return 10**np.linspace(np.log10(x_min),np.log10(x_max), x_n)\n",
    "def lin_range(x_min,x_max,x_n):\n",
    "    return np.linspace(x_min,x_max, x_n)"
   ]
  },
  {
   "cell_type": "code",
   "execution_count": 3,
   "id": "fa6efb83-e79a-4d1a-a1bc-702e1593f0c6",
   "metadata": {},
   "outputs": [],
   "source": [
    "# digit rounding pick 10 to be sure we resolve 10^-4Zsun\n",
    "NDIG = 10"
   ]
  },
  {
   "cell_type": "markdown",
   "id": "1eb8821a",
   "metadata": {
    "tags": []
   },
   "source": [
    "# HMS-HMS"
   ]
  },
  {
   "cell_type": "code",
   "execution_count": 5,
   "id": "a481b17f-6b2c-40d4-a859-a644adb5660f",
   "metadata": {},
   "outputs": [
    {
     "name": "stdout",
     "output_type": "stream",
     "text": [
      "total high resolution  Z_n * m1_n * q_n * p_n= 476000\n",
      "reduced resolution  Z_n * m1_n/2 * q_n * p_n/2 =  119000.0\n",
      "reduced resolution per metallicity m1_n/2 * q_n * p_n/2 = 23800.0\n"
     ]
    }
   ],
   "source": [
    "Zsun = 0.0142\n",
    "m1_min = 5.550812451317292\n",
    "m1_max = 303.4919603386519\n",
    "m1_n = 70\n",
    "m1 = log_range(m1_min,m1_max,m1_n)\n",
    "q_min = 0.05\n",
    "q_max = 1.\n",
    "q_n = 20\n",
    "q = lin_range(q_min,q_max,q_n)\n",
    "q[-1] = 0.99 # replace q=1 with 0.99\n",
    "p_min = 10**(-1.)\n",
    "p_max = 6105.402296585326\n",
    "p_n = 68\n",
    "p = log_range(p_min,p_max,p_n)\n",
    "Z_min = 10**(-4)\n",
    "Z_max = 10**0\n",
    "Z_n = 5\n",
    "met = log_range(Z_min,Z_max,Z_n)*Zsun\n",
    "print('total high resolution  Z_n * m1_n * q_n * p_n=', Z_n * m1_n * q_n * p_n)\n",
    "print('reduced resolution  Z_n * m1_n/2 * q_n * p_n/2 = ',Z_n * m1_n/2 * q_n * p_n/2)\n",
    "print('reduced resolution per metallicity m1_n/2 * q_n * p_n/2 =',m1_n/2 * q_n * p_n/2)"
   ]
  },
  {
   "cell_type": "code",
   "execution_count": 5,
   "id": "eb1aa362",
   "metadata": {},
   "outputs": [],
   "source": [
    "for Z in met:\n",
    "    # save entire grid in a single file\n",
    "    with open('./HMS-HMS/%0.e_Zsun/grid_high_res_all.csv'%(Z/Zsun), 'w', newline='') as file:\n",
    "        writer = csv.writer(file)\n",
    "        writer.writerow(['initial_z','Zbase','m1','m2','initial_period_in_days'])\n",
    "        for i in range(m1_n):\n",
    "            for j in range(q_n):\n",
    "                for k in range(p_n):\n",
    "                    if m1[i]*q[j] >= 0.5:\n",
    "                        writer.writerow([round(Z,NDIG),round(Z,NDIG),round(m1[i],NDIG),round(m1[i]*q[j],NDIG),round(p[k],NDIG)])\n",
    "    # create reduced resolution grid and split into files of max 4000 points\n",
    "    df = pd.read_csv('./HMS-HMS/%0.e_Zsun/grid_high_res_all.csv'%(Z/Zsun)) \n",
    "    sel = df['m1'].isin(np.around(m1,NDIG)[::2]) & df['initial_period_in_days'].isin(np.around(p,NDIG)[::2])\n",
    "    df = df[sel]\n",
    "    size = 4000\n",
    "    files = int(len(df)/size)+1\n",
    "    chunks = [df[i*size:(i+1)*size] for i in range(files)]\n",
    "    for i, chunk in enumerate(chunks):\n",
    "        chunk.to_csv('./HMS-HMS/%0.e_Zsun/grid_low_res_%i.csv'%(Z/Zsun,i),index=False)\n",
    "    # create high resolution grid (without reduced res points) and split into files of max 4000 points\n",
    "    # df = pd.read_csv('./HMS-HMS/%0.e_Zsun/grid_high_res_all.csv'%(Z/Zsun)) \n",
    "    # sel = df['m1'].isin(np.around(m1,NDIG)[::2]) & df['initial_period_in_days'].isin(np.around(p,NDIG)[::2])\n",
    "    # df = df[~sel]\n",
    "    # size = 4000\n",
    "    # files = int(len(df)/size)+1\n",
    "    # chunks = [df[i*size:(i+1)*size] for i in range(files)]\n",
    "    # for i, chunk in enumerate(chunks):\n",
    "    #     chunk.to_csv('./HMS-HMS/%0.e_Zsun/grid_high_res_%i.csv'%(Z/Zsun,i),index=False)"
   ]
  },
  {
   "cell_type": "code",
   "execution_count": 6,
   "id": "a0a2da0e",
   "metadata": {},
   "outputs": [],
   "source": [
    "# random grid\n",
    "n = 3000\n",
    "for Z in met:\n",
    "    m1 = 10**np.random.uniform(np.log10(m1_min), np.log10(m1_max), n)\n",
    "    q = np.random.uniform(q_min, q_max, n)\n",
    "    p = 10**np.random.uniform(np.log10(p_min),np.log10(p_max), n)\n",
    "    with open('./HMS-HMS/%0.e_Zsun/grid_random_1.csv'%(Z/Zsun), 'w', newline='') as file:\n",
    "        writer = csv.writer(file)\n",
    "        writer.writerow(['initial_z','Zbase','m1','m2','initial_period_in_days'])\n",
    "        for j in range(n):\n",
    "            if m1[j]*q[j] >= 0.5:\n",
    "                writer.writerow([round(Z,NDIG),round(Z,NDIG),round(m1[j],NDIG),round(m1[j]*q[j],NDIG),round(p[j],NDIG)])"
   ]
  },
  {
   "cell_type": "code",
   "execution_count": 6,
   "id": "881abdc9-0728-40ca-97c0-2174860203a3",
   "metadata": {},
   "outputs": [],
   "source": [
    "# test grid\n",
    "n = 10\n",
    "for Z in met:\n",
    "    m1 = 10**np.random.uniform(np.log10(m1_min), np.log10(m1_max), n)\n",
    "    q = np.random.uniform(q_min, q_max, n)\n",
    "    p = 10**np.random.uniform(np.log10(p_min),np.log10(p_max), n)\n",
    "    with open('./HMS-HMS/%0.e_Zsun/grid_test.csv'%(Z/Zsun), 'w', newline='') as file:\n",
    "        writer = csv.writer(file)\n",
    "        writer.writerow(['initial_z','Zbase','m1','m2','initial_period_in_days'])\n",
    "        for j in range(n):\n",
    "            if m1[j]*q[j] >= 0.5:\n",
    "                writer.writerow([round(Z,NDIG),round(Z,NDIG),round(m1[j],NDIG),round(m1[j]*q[j],NDIG),round(p[j],NDIG)])"
   ]
  },
  {
   "cell_type": "markdown",
   "id": "a4bc2135",
   "metadata": {},
   "source": [
    "# CO-HMS_RLO"
   ]
  },
  {
   "cell_type": "code",
   "execution_count": 8,
   "id": "3fcac603-522b-4741-85ec-7da005585307",
   "metadata": {},
   "outputs": [
    {
     "name": "stdout",
     "output_type": "stream",
     "text": [
      "total high resolution  Z_n * m_star_n * m_CO_n * p_n= 162150\n",
      "reduced resolution  Z_n * m_star_n/2 * m_CO_n * p_n/2 =  41400.0\n",
      "reduced resolution per metallicity m_star_n/2 * m_CO_n * p_n/2 = 8280.0\n"
     ]
    }
   ],
   "source": [
    "Zsun = 0.0142\n",
    "m_CO_min = 1.\n",
    "m_CO_max = 51.32759630397827\n",
    "m_CO_n = 23\n",
    "m_CO = log_range(m_CO_min, m_CO_max, m_CO_n)\n",
    "m_star_min = 0.5\n",
    "m_star_max = 320.92137804463766\n",
    "m_star_n = 47\n",
    "m_star = log_range(m_star_min, m_star_max, m_star_n)\n",
    "p_min = 10**(-1)\n",
    "p_max = 10**(3.5)\n",
    "p_n = 30\n",
    "p = log_range(p_min,p_max, p_n)\n",
    "Z_min = 10**(-4)\n",
    "Z_max = 10**0\n",
    "Z_n = 5\n",
    "met = log_range(Z_min,Z_max,Z_n)*Zsun\n",
    "print('total high resolution  Z_n * m_star_n * m_CO_n * p_n=', Z_n * m_star_n * m_CO_n * p_n)\n",
    "print('reduced resolution  Z_n * m_star_n/2 * m_CO_n * p_n/2 = ',Z_n * (m_star_n+1)/2 * m_CO_n * p_n/2)\n",
    "print('reduced resolution per metallicity m_star_n/2 * m_CO_n * p_n/2 =',(m_star_n+1)/2 * m_CO_n * p_n/2)"
   ]
  },
  {
   "cell_type": "code",
   "execution_count": 9,
   "id": "c2ddd260",
   "metadata": {},
   "outputs": [],
   "source": [
    "for Z in met:\n",
    "    # save entire grid in a single file\n",
    "    with open('./CO-HMS_RLO/%0.e_Zsun/grid_high_res_all.csv'%(Z/Zsun), 'w', newline='') as file:\n",
    "        writer = csv.writer(file)\n",
    "        writer.writerow(['initial_z','Zbase','m1','m2','initial_period_in_days'])\n",
    "        for i in range(m_CO_n):\n",
    "            for j in range(m_star_n):\n",
    "                for k in range(p_n):\n",
    "                    writer.writerow([round(Z,NDIG),round(Z,NDIG),round(m_star[j],NDIG),round(m_CO[i],NDIG),round(p[k],NDIG)])\n",
    "    # create reduced resolution grid and split into files of max 4000 points\n",
    "    df = pd.read_csv('./CO-HMS_RLO/%0.e_Zsun/grid_high_res_all.csv'%(Z/Zsun)) \n",
    "    sel = df['m1'].isin(np.around(m_star,NDIG)[::2]) & df['initial_period_in_days'].isin(np.around(p,NDIG)[::2])\n",
    "    df = df[sel]\n",
    "    size = 4000\n",
    "    files = int(len(df)/size)+1\n",
    "    chunks = [df[i*size:(i+1)*size] for i in range(files)]\n",
    "    for i, chunk in enumerate(chunks):\n",
    "        chunk.to_csv('./CO-HMS_RLO/%0.e_Zsun/grid_low_res_%i.csv'%(Z/Zsun,i),index=False)\n",
    "    # create high resolution grid (without reduced res points) and split into files of max 4000 points\n",
    "    # df = pd.read_csv('./CO-HMS_RLO/%0.e_Zsun/grid_high_res_all.csv'%(Z/Zsun)) \n",
    "    # sel = df['m1'].isin(np.around(m_star,NDIG)[::2]) & df['initial_period_in_days'].isin(np.around(p,NDIG)[::2])\n",
    "    # df = df[~sel]\n",
    "    # size = 4000\n",
    "    # files = int(len(df)/size)+1\n",
    "    # chunks = [df[i*size:(i+1)*size] for i in range(files)]\n",
    "    # for i, chunk in enumerate(chunks):\n",
    "    #     chunk.to_csv('./CO-HMS_RLO/%0.e_Zsun/grid_high_res_%i.csv'%(Z/Zsun,i),index=False)"
   ]
  },
  {
   "cell_type": "code",
   "execution_count": 10,
   "id": "cd027466",
   "metadata": {},
   "outputs": [],
   "source": [
    "#random \n",
    "n = 3000\n",
    "for Z in met:\n",
    "    m_CO = 10**np.random.uniform(np.log10(m_CO_min),np.log10(m_CO_max), n)\n",
    "    m_star = 10**np.random.uniform(np.log10(m_star_min),np.log10(m_star_max), n)\n",
    "    p = 10**np.random.uniform(np.log10(p_min),np.log10(p_max), n)\n",
    "    with open('./CO-HMS_RLO/%0.e_Zsun/grid_random_1.csv'%(Z/Zsun), 'w', newline='') as file:\n",
    "        writer = csv.writer(file)\n",
    "        writer.writerow(['initial_z','Zbase','m1','m2','initial_period_in_days'])\n",
    "        for j in range(n):\n",
    "            writer.writerow([round(Z,NDIG),round(Z,NDIG),round(m_star[j],NDIG),round(m_CO[j],NDIG),round(p[j],NDIG)])"
   ]
  },
  {
   "cell_type": "code",
   "execution_count": 11,
   "id": "233170dd-5bc8-4fb8-8ca3-7092b5bd13bf",
   "metadata": {},
   "outputs": [],
   "source": [
    "#random \n",
    "n = 10\n",
    "for Z in met:\n",
    "    m_CO = 10**np.random.uniform(np.log10(m_CO_min),np.log10(m_CO_max), n)\n",
    "    m_star = 10**np.random.uniform(np.log10(m_star_min),np.log10(m_star_max), n)\n",
    "    p = 10**np.random.uniform(np.log10(p_min),np.log10(p_max), n)\n",
    "    with open('./CO-HMS_RLO/%0.e_Zsun/grid_test.csv'%(Z/Zsun), 'w', newline='') as file:\n",
    "        writer = csv.writer(file)\n",
    "        writer.writerow(['initial_z','Zbase','m1','m2','initial_period_in_days'])\n",
    "        for j in range(n):\n",
    "            writer.writerow([round(Z,NDIG),round(Z,NDIG),round(m_star[j],NDIG),round(m_CO[j],NDIG),round(p[j],NDIG)])"
   ]
  },
  {
   "cell_type": "markdown",
   "id": "b955a94c",
   "metadata": {},
   "source": [
    "# CO-HeMS"
   ]
  },
  {
   "cell_type": "code",
   "execution_count": 12,
   "id": "68944fee-42cb-4db5-b989-387997cb9224",
   "metadata": {},
   "outputs": [
    {
     "name": "stdout",
     "output_type": "stream",
     "text": [
      "total high resolution  Z_n * m_star_n * m_CO_n * p_n= 189175\n",
      "reduced resolution  Z_n * m_star_n/2 * m_CO_n * p_n/2 =  48645.0\n",
      "reduced resolution per metallicity m_star_n/2 * m_CO_n * p_n/2 = 9729.0\n"
     ]
    }
   ],
   "source": [
    "Zsun = 0.0142\n",
    "m_CO_min = 1.\n",
    "m_CO_max = 51.32759630397827\n",
    "m_CO_n = 23\n",
    "m_CO = log_range(m_CO_min,m_CO_max,m_CO_n)\n",
    "m_star_min = 0.5\n",
    "m_star_max = 191.91577479071924\n",
    "m_star_n = 35\n",
    "m_star = log_range(m_star_min,m_star_max,m_star_n)\n",
    "p_min = 0.02\n",
    "p_max = 1147.2305020897365\n",
    "p_n = 47\n",
    "p = log_range(p_min,p_max,p_n)\n",
    "Z_min = 10**(-4)\n",
    "Z_max = 10**0\n",
    "Z_n = 5\n",
    "met = log_range(Z_min,Z_max,Z_n)*Zsun\n",
    "print('total high resolution  Z_n * m_star_n * m_CO_n * p_n=', Z_n * m_star_n * m_CO_n * p_n)\n",
    "print('reduced resolution  Z_n * m_star_n/2 * m_CO_n * p_n/2 = ',Z_n * (m_star_n+1)/2 * m_CO_n * p_n/2)\n",
    "print('reduced resolution per metallicity m_star_n/2 * m_CO_n * p_n/2 =',(m_star_n+1)/2 * m_CO_n * p_n/2)"
   ]
  },
  {
   "cell_type": "code",
   "execution_count": 13,
   "id": "07936903",
   "metadata": {},
   "outputs": [],
   "source": [
    "for Z in met:\n",
    "    # save entire grid in a single file\n",
    "    with open('./CO-HeMS/%0.e_Zsun/grid_high_res_all.csv'%(Z/Zsun), 'w', newline='') as file:\n",
    "        writer = csv.writer(file)\n",
    "        writer.writerow(['initial_z','Zbase','new_Z','m1','m2','initial_period_in_days'])\n",
    "        for i in range(m_CO_n):\n",
    "            for j in range(m_star_n):\n",
    "                for k in range(p_n):\n",
    "                    writer.writerow([round(Z,NDIG),round(Z,NDIG),round(Z,NDIG),round(m_star[j],NDIG),round(m_CO[i],NDIG),round(p[k],NDIG)])\n",
    "    # create reduced resolution grid and split into files of max 4000 points\n",
    "    df = pd.read_csv('./CO-HeMS/%0.e_Zsun/grid_high_res_all.csv'%(Z/Zsun)) \n",
    "    sel = df['m1'].isin(np.around(m_star,NDIG)[::2]) & df['initial_period_in_days'].isin(np.around(p,NDIG)[::2])\n",
    "    df = df[sel]\n",
    "    size = 4000\n",
    "    files = int(len(df)/size)+1\n",
    "    chunks = [df[i*size:(i+1)*size] for i in range(files)]\n",
    "    for i, chunk in enumerate(chunks):\n",
    "        chunk.to_csv('./CO-HeMS/%0.e_Zsun/grid_low_res_%i.csv'%(Z/Zsun,i),index=False)\n",
    "    # create high resolution grid (without reduced res points) and split into files of max 4000 points\n",
    "    # df = pd.read_csv('./CO-HeMS/%0.e_Zsun/grid_high_res_all.csv'%(Z/Zsun)) \n",
    "    # sel = df['m1'].isin(np.around(m_star,NDIG)[::2]) & df['initial_period_in_days'].isin(np.around(p,NDIG)[::2])\n",
    "    # df = df[~sel]\n",
    "    # size = 4000\n",
    "    # files = int(len(df)/size)+1\n",
    "    # chunks = [df[i*size:(i+1)*size] for i in range(files)]\n",
    "    # for i, chunk in enumerate(chunks):\n",
    "    #     chunk.to_csv('./CO-HeMS/%0.e_Zsun/grid_high_res_%i.csv'%(Z/Zsun,i),index=False)"
   ]
  },
  {
   "cell_type": "code",
   "execution_count": 14,
   "id": "3417ef37",
   "metadata": {},
   "outputs": [],
   "source": [
    "# random grid\n",
    "n = 3000\n",
    "for Z in met:\n",
    "    m_CO = 10**np.random.uniform(np.log10(m_CO_min),np.log10(m_CO_max), n)\n",
    "    m_star = 10**np.random.uniform(np.log10(m_star_min),np.log10(m_star_max), n)\n",
    "    p = 10**np.random.uniform(np.log10(p_min),np.log10(p_max), n)\n",
    "    with open('./CO-HeMS/%0.e_Zsun/grid_random_1.csv'%(Z/Zsun), 'w', newline='') as file:\n",
    "        writer = csv.writer(file)\n",
    "        writer.writerow(['initial_z','Zbase','new_Z','m1','m2','initial_period_in_days'])\n",
    "        for j in range(n):\n",
    "            writer.writerow([round(Z,NDIG),round(Z,NDIG),round(Z,NDIG),round(m_star[j],NDIG),round(m_CO[j],NDIG),round(p[j],NDIG)])"
   ]
  },
  {
   "cell_type": "code",
   "execution_count": 15,
   "id": "55b39c73",
   "metadata": {},
   "outputs": [],
   "source": [
    "# test grid\n",
    "n = 10\n",
    "for Z in met:\n",
    "    m_CO = 10**np.random.uniform(np.log10(m_CO_min),np.log10(m_CO_max), n)\n",
    "    m_star = 10**np.random.uniform(np.log10(m_star_min),np.log10(m_star_max), n)\n",
    "    p = 10**np.random.uniform(np.log10(p_min),np.log10(p_max), n)\n",
    "    with open('./CO-HeMS/%0.e_Zsun/grid_test.csv'%(Z/Zsun), 'w', newline='') as file:\n",
    "        writer = csv.writer(file)\n",
    "        writer.writerow(['initial_z','Zbase','new_Z','m1','m2','initial_period_in_days'])\n",
    "        for j in range(n):\n",
    "            writer.writerow([round(Z,10),round(Z,10),round(Z,10),round(m_star[j],NDIG),round(m_CO[j],NDIG),round(p[j],NDIG)])"
   ]
  },
  {
   "cell_type": "markdown",
   "id": "78ae7396-0433-454d-8970-7ab115e6a07f",
   "metadata": {},
   "source": [
    "# single HMS"
   ]
  },
  {
   "cell_type": "code",
   "execution_count": 41,
   "id": "ecfc5b2c-0552-4563-821a-ddaf42ef0990",
   "metadata": {},
   "outputs": [],
   "source": [
    "Zsun = 0.0142\n",
    "m1_min = 0.5\n",
    "m1_max = 300.\n",
    "m1_n = 300\n",
    "m1 = log_range(m1_min,m1_max,m1_n)\n",
    "\n",
    "Z_min = 10**(-4)\n",
    "Z_max = 10**0\n",
    "Z_n = 5\n",
    "met = log_range(Z_min,Z_max,Z_n)*Zsun"
   ]
  },
  {
   "cell_type": "code",
   "execution_count": 42,
   "id": "30c21abe-181b-492a-8952-49eb0ed41e56",
   "metadata": {},
   "outputs": [],
   "source": [
    "for Z in met:\n",
    "    # save entire grid in a single file\n",
    "    with open('./single_HMS/%0.e_Zsun/grid.csv'%(Z/Zsun), 'w', newline='') as file:\n",
    "        writer = csv.writer(file)\n",
    "        writer.writerow(['initial_z','Zbase','initial_mass'])\n",
    "        for i in range(m1_n):\n",
    "            writer.writerow([round(Z,NDIG),round(Z,NDIG),round(m1[i],NDIG)])"
   ]
  },
  {
   "cell_type": "markdown",
   "id": "7f557753-3d0a-45e3-b787-2d8d47e7f43b",
   "metadata": {},
   "source": [
    "# single HeMS"
   ]
  },
  {
   "cell_type": "code",
   "execution_count": 39,
   "id": "7ffba469-c499-4ff2-b17e-5fcfbb76e0d8",
   "metadata": {},
   "outputs": [],
   "source": [
    "Zsun = 0.0142\n",
    "m1_min = 0.5\n",
    "m1_max = 300.\n",
    "m1_n = 300\n",
    "m1 = log_range(m1_min,m1_max,m1_n)[:268]\n",
    "m1_n = len(m1)\n",
    "\n",
    "Z_min = 10**(-4)\n",
    "Z_max = 10**0\n",
    "Z_n = 5\n",
    "met = log_range(Z_min,Z_max,Z_n)*Zsun"
   ]
  },
  {
   "cell_type": "code",
   "execution_count": 40,
   "id": "ee755c83-046d-443a-9e76-81aac2afdc8a",
   "metadata": {},
   "outputs": [],
   "source": [
    "for Z in met:\n",
    "    # save entire grid in a single file\n",
    "    with open('./single_HeMS/%0.e_Zsun/grid.csv'%(Z/Zsun), 'w', newline='') as file:\n",
    "        writer = csv.writer(file)\n",
    "        writer.writerow(['initial_z','Zbase','new_Z','initial_mass'])\n",
    "        for i in range(m1_n):\n",
    "            writer.writerow([round(Z,NDIG),round(Z,NDIG),round(Z,NDIG),round(m1[i],NDIG)])"
   ]
  },
  {
   "cell_type": "code",
   "execution_count": null,
   "id": "7b3d12c2-4b8b-459c-8b52-5dc1e79fc6c8",
   "metadata": {},
   "outputs": [],
   "source": []
  },
  {
   "cell_type": "code",
   "execution_count": null,
   "id": "e92dc843-2f6e-46d1-994f-68e731af7afd",
   "metadata": {},
   "outputs": [],
   "source": []
  }
 ],
 "metadata": {
  "kernelspec": {
   "display_name": "Python 3 (ipykernel)",
   "language": "python",
   "name": "python3"
  },
  "language_info": {
   "codemirror_mode": {
    "name": "ipython",
    "version": 3
   },
   "file_extension": ".py",
   "mimetype": "text/x-python",
   "name": "python",
   "nbconvert_exporter": "python",
   "pygments_lexer": "ipython3",
   "version": "3.7.15"
  }
 },
 "nbformat": 4,
 "nbformat_minor": 5
}
