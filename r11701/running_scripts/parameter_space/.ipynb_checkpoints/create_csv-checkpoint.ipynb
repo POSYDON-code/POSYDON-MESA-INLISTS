{
 "cells": [
  {
   "cell_type": "code",
   "execution_count": 2,
   "metadata": {},
   "outputs": [],
   "source": [
    "import numpy as np\n",
    "import csv\n",
    "import os"
   ]
  },
  {
   "cell_type": "markdown",
   "metadata": {},
   "source": [
    "# HMS-HMS"
   ]
  },
  {
   "cell_type": "code",
   "execution_count": 17,
   "metadata": {},
   "outputs": [],
   "source": [
    "m_star_1 = 10**np.linspace(np.log10(7.),np.log10(120), 50)\n",
    "q = np.linspace(0.05,1., 20)\n",
    "p = 10**np.linspace(0.0,3.5, 50)\n",
    "\n",
    "with open('./HMS-HMS/grid.csv', 'w', newline='') as file:\n",
    "    writer = csv.writer(file)\n",
    "    writer.writerow(['m1','m2','initial_period_in_days'])\n",
    "    for i in range(len(m_star_1)):\n",
    "        for j in range(len(q)):\n",
    "            for k in range(len(p)):\n",
    "                if m_star_1[i]*q[j] >= 0.5:\n",
    "                    writer.writerow([m_star_1[i],m_star_1[i]*q[j],p[k]])"
   ]
  },
  {
   "cell_type": "code",
   "execution_count": 18,
   "metadata": {},
   "outputs": [],
   "source": [
    "# with open('./HMS-HMS/grid_small.csv', 'w', newline='') as file_small:\n",
    "#     writer_small = csv.writer(file_small)\n",
    "#     writer_small.writerow(['m1','m2','initial_period_in_days'])\n",
    "#     for j in range(len(q)):\n",
    "#         with open('./HMS-HMS/grid_q_%1.2f.csv'%q[j], 'w', newline='') as file:\n",
    "#             writer = csv.writer(file)\n",
    "#             writer.writerow(['m1','m2','initial_period_in_days'])\n",
    "#             for i in range(len(m_star_1)):\n",
    "#                 for k in range(len(p)):\n",
    "#                     if m_star_1[i]*q[j] >= 0.5:\n",
    "#                         if j % 4 == 1 and i % 4 == 1 and k % 4 == 1:\n",
    "#                             writer_small.writerow([m_star_1[i],m_star_1[i]*q[j],p[k]])\n",
    "#                         else:\n",
    "#                             writer.writerow([m_star_1[i],m_star_1[i]*q[j],p[k]])\n",
    "for j in range(len(q)):\n",
    "    with open('./HMS-HMS/grid_q_%1.2f.csv'%q[j], 'w', newline='') as file:\n",
    "        writer = csv.writer(file)\n",
    "        writer.writerow(['m1','m2','initial_period_in_days'])\n",
    "        for i in range(len(m_star_1)):\n",
    "            for k in range(len(p)):\n",
    "                if m_star_1[i]*q[j] >= 0.5:\n",
    "                    writer.writerow([m_star_1[i],m_star_1[i]*q[j],p[k]])"
   ]
  },
  {
   "cell_type": "code",
   "execution_count": 19,
   "metadata": {},
   "outputs": [],
   "source": [
    "#random \n",
    "n = 1000\n",
    "m_star_1 = 10**np.random.uniform(np.log10(7.), np.log10(120), n)\n",
    "q = np.random.uniform(0.05, 1., n)\n",
    "p = 10**np.random.uniform(0.0, 3.5, n)\n",
    "\n",
    "for i in range(3):\n",
    "    with open('./HMS-HMS/grid_random_%s.csv'%(i+1), 'w', newline='') as file:\n",
    "        writer = csv.writer(file)\n",
    "        writer.writerow(['m1','m2','initial_period_in_days'])\n",
    "        for j in range(n):\n",
    "            if m_star_1[j]*q[j] >= 0.5:\n",
    "                writer.writerow([m_star_1[j],m_star_1[j]*q[j],p[j]])"
   ]
  },
  {
   "cell_type": "markdown",
   "metadata": {},
   "source": [
    "# CO-HMS_RLO"
   ]
  },
  {
   "cell_type": "code",
   "execution_count": 20,
   "metadata": {},
   "outputs": [],
   "source": [
    "m_CO = 10**np.linspace(np.log10(1),np.log10(30), 20)\n",
    "m_star = 10**np.linspace(np.log10(0.5),np.log10(120), 40)\n",
    "p = 10**np.linspace(np.log10(0.1),3.5, 30)\n",
    "\n",
    "with open('./CO-HMS_RLO/grid.csv', 'w', newline='') as file:\n",
    "    writer = csv.writer(file)\n",
    "    writer.writerow(['m1','m2','initial_period_in_days'])\n",
    "    for i in range(len(m_CO)):\n",
    "        for j in range(len(m_star)):\n",
    "            for k in range(len(p)):\n",
    "                writer.writerow([m_star[j],m_CO[i],p[k]])"
   ]
  },
  {
   "cell_type": "code",
   "execution_count": 21,
   "metadata": {},
   "outputs": [],
   "source": [
    "# with open('./CO-HMS_RLO/grid_small.csv', 'w', newline='') as file_small:\n",
    "#     writer_small = csv.writer(file_small)\n",
    "#     writer_small.writerow(['m1','m2','initial_period_in_days'])\n",
    "#     for j in range(len(m_CO)):\n",
    "#         with open('./CO-HMS_RLO/grid_m_CO_%1.2f.csv'%m_CO[j], 'w', newline='') as file:\n",
    "#             writer = csv.writer(file)\n",
    "#             writer.writerow(['m1','m2','initial_period_in_days'])\n",
    "#             for i in range(len(m_star)):\n",
    "#                 for k in range(len(p)):\n",
    "#                     if j % 4 == 1 and i % 3 == 1 and k % 3 == 1:\n",
    "#                         writer_small.writerow([m_star[i],m_CO[j],p[k]])\n",
    "#                     else:\n",
    "#                         writer.writerow([m_star[i],m_CO[j],p[k]])\n",
    "for j in range(len(m_CO)):\n",
    "    with open('./CO-HMS_RLO/grid_m_CO_%1.2f.csv'%m_CO[j], 'w', newline='') as file:\n",
    "        writer = csv.writer(file)\n",
    "        writer.writerow(['m1','m2','initial_period_in_days'])\n",
    "        for i in range(len(m_star)):\n",
    "            for k in range(len(p)):\n",
    "                writer.writerow([m_star[i],m_CO[j],p[k]])"
   ]
  },
  {
   "cell_type": "code",
   "execution_count": 22,
   "metadata": {},
   "outputs": [],
   "source": [
    "#random \n",
    "n = 1000\n",
    "m_CO = 10**np.random.uniform(np.log10(1),np.log10(30), n)\n",
    "m_star = 10**np.random.uniform(np.log10(0.5),np.log10(120), n)\n",
    "p = 10**np.random.uniform(np.log10(0.1),3.5, n)\n",
    "\n",
    "for i in range(3):\n",
    "    with open('./CO-HMS_RLO/grid_random_%s.csv'%(i+1), 'w', newline='') as file:\n",
    "        writer = csv.writer(file)\n",
    "        writer.writerow(['m1','m2','initial_period_in_days'])\n",
    "        for j in range(n):\n",
    "            writer.writerow([m_star[j],m_CO[j],p[j]])"
   ]
  },
  {
   "cell_type": "markdown",
   "metadata": {},
   "source": [
    "# CO-HeMS"
   ]
  },
  {
   "cell_type": "code",
   "execution_count": 23,
   "metadata": {},
   "outputs": [],
   "source": [
    "met = 0.0142\n",
    "m_CO = 10**np.linspace(np.log10(1),np.log10(30), 20)\n",
    "m_star = 10**np.linspace(np.log10(0.5),np.log10(80), 40)\n",
    "p = 10**np.linspace(np.log10(0.02),np.log10(20), 30)\n",
    "\n",
    "with open('./CO-HeMS/grid.csv', 'w', newline='') as file:\n",
    "    writer = csv.writer(file)\n",
    "    writer.writerow(['Zbase','new_Z','m1','m2','initial_period_in_days'])\n",
    "    for i in range(len(m_CO)):\n",
    "        for j in range(len(m_star)):\n",
    "            for k in range(len(p)):\n",
    "                writer.writerow([met,met,m_star[j],m_CO[i],p[k]])"
   ]
  },
  {
   "cell_type": "code",
   "execution_count": 24,
   "metadata": {},
   "outputs": [],
   "source": [
    "# with open('./CO-HeMS/grid_small.csv', 'w', newline='') as file_small:\n",
    "#     writer_small = csv.writer(file_small)\n",
    "#     writer_small.writerow(['m1','m2','initial_period_in_days'])\n",
    "#     for j in range(len(m_CO)):\n",
    "#         with open('./CO-HeMS/grid_m_CO_%1.2f.csv'%m_CO[j], 'w', newline='') as file:\n",
    "#             writer = csv.writer(file)\n",
    "#             writer.writerow(['Zbase','new_Z','m1','m2','initial_period_in_days'])\n",
    "#             for i in range(len(m_star)):\n",
    "#                 for k in range(len(p)):\n",
    "#                     if j % 4 == 1 and i % 3 == 1 and k % 3 == 1:\n",
    "#                         writer_small.writerow([met,met,m_star[i],m_CO[j],p[k]])\n",
    "#                     else:\n",
    "#                         writer.writerow([met,met,m_star[i],m_CO[j],p[k]])\n",
    "for j in range(len(m_CO)):\n",
    "    with open('./CO-HeMS/grid_m_CO_%1.2f.csv'%m_CO[j], 'w', newline='') as file:\n",
    "        writer = csv.writer(file)\n",
    "        writer.writerow(['Zbase','new_Z','m1','m2','initial_period_in_days'])\n",
    "        for i in range(len(m_star)):\n",
    "            for k in range(len(p)):\n",
    "                writer.writerow([met,met,m_star[i],m_CO[j],p[k]])"
   ]
  },
  {
   "cell_type": "code",
   "execution_count": 25,
   "metadata": {},
   "outputs": [],
   "source": [
    "#random \n",
    "n = 1000\n",
    "met = 0.0142\n",
    "m_CO = 10**np.random.uniform(np.log10(1),np.log10(30), n)\n",
    "m_star = 10**np.random.uniform(np.log10(0.5),np.log10(80), n)\n",
    "p = 10**np.random.uniform(np.log10(0.02),np.log10(20), n)\n",
    "\n",
    "for i in range(3):\n",
    "    with open('./CO-HeMS/grid_random_%s.csv'%(i+1), 'w', newline='') as file:\n",
    "        writer = csv.writer(file)\n",
    "        writer.writerow(['Zbase','new_Z','m1','m2','initial_period_in_days'])\n",
    "        for j in range(n):\n",
    "            writer.writerow([met,met,m_star[j],m_CO[j],p[j]])"
   ]
  },
  {
   "cell_type": "code",
   "execution_count": null,
   "metadata": {},
   "outputs": [],
   "source": []
  }
 ],
 "metadata": {
  "kernelspec": {
   "display_name": "Python 3",
   "language": "python",
   "name": "python3"
  },
  "language_info": {
   "codemirror_mode": {
    "name": "ipython",
    "version": 3
   },
   "file_extension": ".py",
   "mimetype": "text/x-python",
   "name": "python",
   "nbconvert_exporter": "python",
   "pygments_lexer": "ipython3",
   "version": "3.7.7"
  }
 },
 "nbformat": 4,
 "nbformat_minor": 5
}
